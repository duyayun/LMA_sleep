{
 "cells": [
  {
   "cell_type": "code",
   "execution_count": 1,
   "metadata": {},
   "outputs": [],
   "source": [
    "from __future__ import print_function, division\n",
    "import os\n",
    "import torch\n",
    "import pandas as pd\n",
    "import numpy as np\n",
    "import matplotlib.pyplot as plt\n",
    "from torch.utils.data import Dataset, DataLoader\n",
    "from torchvision import transforms, utils"
   ]
  },
  {
   "cell_type": "code",
   "execution_count": 2,
   "metadata": {},
   "outputs": [],
   "source": [
    "test_file = r'D:\\ShiyuanDuan\\SleepStudy\\outputs\\sub001.parquet'\n",
    "df = pd.read_parquet(test_file).dropna()\n",
    "epochs = df['Epoch'].unique()\n",
    "\n"
   ]
  },
  {
   "cell_type": "code",
   "execution_count": 3,
   "metadata": {},
   "outputs": [],
   "source": [
    "data = df[['x','y','z','ma_hr', 'ma_rr','chest_orientation','Epoch', 'QuantizedStage']]\n",
    "\n",
    "data = data.groupby('Epoch').apply(lambda x: x.values)"
   ]
  },
  {
   "cell_type": "code",
   "execution_count": 4,
   "metadata": {},
   "outputs": [
    {
     "data": {
      "text/plain": [
       "Epoch\n",
       "<Epoch>-      [[-7296.0, 2683.0, 2384.0, 50.32356387626972, ...\n",
       "<Epoch>1      [[381.0, -8263.0, -88.0, 66.24104237794107, 20...\n",
       "<Epoch>10     [[10.0, -8109.0, 1666.0, 71.35595289304665, 23...\n",
       "<Epoch>100    [[-3893.0, 5737.0, 4168.0, 57.27482228381032, ...\n",
       "<Epoch>101    [[-3917.0, 6116.0, 3666.0, 58.981202869452815,...\n",
       "                                    ...                        \n",
       "<Epoch>95     [[-4041.0, 5310.0, 4602.0, 58.17330103493028, ...\n",
       "<Epoch>96     [[-4020.0, 5710.0, 3835.0, 66.42293002834604, ...\n",
       "<Epoch>97     [[-4124.0, 5786.0, 3709.0, 56.802009589406175,...\n",
       "<Epoch>98     [[-4019.0, 5850.0, 3862.0, 60.81365754811682, ...\n",
       "<Epoch>99     [[-4136.0, 6129.0, 3377.0, 59.38465722070431, ...\n",
       "Length: 851, dtype: object"
      ]
     },
     "execution_count": 4,
     "metadata": {},
     "output_type": "execute_result"
    }
   ],
   "source": [
    "data"
   ]
  },
  {
   "cell_type": "code",
   "execution_count": 5,
   "metadata": {},
   "outputs": [],
   "source": [
    "npval = np.stack([x for x in data if x.shape==(30000,8)])"
   ]
  },
  {
   "cell_type": "code",
   "execution_count": 11,
   "metadata": {},
   "outputs": [
    {
     "data": {
      "text/plain": [
       "array([[10.0, -8109.0, 1666.0, ..., -0.0702962670861917, '<Epoch>10', 0],\n",
       "       [10.0, -8109.0, 1647.0, ..., -0.0703407845149495, '<Epoch>10', 0],\n",
       "       [9.0, -8109.0, 1631.0, ..., -0.0703853019437072, '<Epoch>10', 0],\n",
       "       ...,\n",
       "       [134.0, -8148.0, 1406.0, ..., -0.1070332032574969, '<Epoch>10', 0],\n",
       "       [135.0, -8148.0, 1430.0, ..., -0.1070625169208051, '<Epoch>10', 0],\n",
       "       [135.0, -8148.0, 1406.0, ..., -0.1070918305841132, '<Epoch>10', 0]],\n",
       "      dtype=object)"
      ]
     },
     "execution_count": 11,
     "metadata": {},
     "output_type": "execute_result"
    }
   ],
   "source": [
    "npval[0]"
   ]
  },
  {
   "cell_type": "code",
   "execution_count": 82,
   "metadata": {},
   "outputs": [
    {
     "data": {
      "text/plain": [
       "array([0., 3., 3., 2., 2., 2., 2., 2., 2., 2., 2., 0., 2., 2., 2., 2., 2.,\n",
       "       2., 2., 3., 3., 3., 0., 3., 3., 3., 3., 3., 3., 2., 2., 2., 2., 0.,\n",
       "       2., 2., 2., 2., 2., 2., 2., 2., 2., 2., 0., 2., 2., 2., 2., 2., 2.,\n",
       "       2., 2., 2., 2., 0., 2., 2., 2., 2., 2., 2., 2., 2., 2., 2., 0., 2.,\n",
       "       2., 2., 2., 2., 2., 2., 3., 3., 0., 3., 3., 0., 0., 1., 2., 2., 2.,\n",
       "       2., 2., 0., 2., 2., 2., 2., 2., 2., 2., 2., 2., 2., 0., 3., 3., 3.,\n",
       "       3., 3., 3., 3., 3., 3., 3., 0., 0., 3., 3., 3., 3., 3., 3., 3., 0.,\n",
       "       0., 0., 0., 0., 1., 1., 2., 2., 2., 2., 2., 2., 2., 0., 2., 2., 2.,\n",
       "       2., 2., 2., 2., 2., 2., 2., 0., 2., 2., 2., 2., 2., 2., 2., 2., 2.,\n",
       "       2., 0., 2., 2., 2., 2., 2., 2., 2., 2., 2., 2., 0., 2., 2., 2., 3.,\n",
       "       3., 3., 3., 3., 3., 3., 0., 3., 3., 3., 3., 2., 2., 2., 2., 2., 2.,\n",
       "       0., 2., 2., 2., 3., 3., 3., 3., 3., 3., 3., 0., 3., 3., 3., 3., 3.,\n",
       "       3., 3., 3., 3., 0., 3., 3., 3., 3., 3., 3., 3., 3., 3., 3., 0., 0.,\n",
       "       3., 3., 3., 2., 2., 2., 2., 2., 2., 2., 0., 2., 2., 2., 2., 2., 4.,\n",
       "       4., 4., 4., 4., 0., 4., 4., 4., 4., 4., 4., 4., 4., 4., 4., 0., 4.,\n",
       "       4., 4., 4., 4., 4., 4., 4., 4., 4., 0., 4., 4., 4., 4., 4., 4., 4.,\n",
       "       4., 4., 4., 0., 4., 4., 0., 0., 0., 0., 0., 0., 0., 0., 0., 0., 0.,\n",
       "       0., 0., 0., 0., 0., 0., 0., 0., 0., 0., 0., 0., 0., 0., 0., 0., 0.,\n",
       "       0., 0., 0., 0., 0., 0., 0., 0., 0., 0., 0., 0., 0., 0., 1., 1., 1.,\n",
       "       1., 1., 1., 2., 2., 2., 2., 0., 0., 2., 2., 2., 2., 2., 2., 2., 2.,\n",
       "       2., 2., 0., 2., 2., 2., 2., 2., 2., 2., 2., 2., 2., 0., 0., 1., 1.,\n",
       "       1., 2., 2., 2., 2., 2., 2., 0., 2., 2., 2., 2., 2., 2., 2., 2., 2.,\n",
       "       2., 0., 2., 2., 2., 2., 2., 2., 2., 2., 2., 0., 0., 0., 1., 1., 2.,\n",
       "       2., 2., 2., 2., 2., 2., 0., 2., 2., 2., 2., 2., 2., 2., 2., 2., 2.,\n",
       "       0., 2., 2., 2., 2., 2., 2., 2., 2., 2., 2., 1., 2., 2., 2., 2., 2.,\n",
       "       2., 2., 2., 2., 2., 1., 2., 2., 2., 2., 2., 2., 2., 2., 2., 2., 0.,\n",
       "       1., 2., 2., 2., 2., 2., 2., 2., 4., 4., 4., 1., 4., 4., 4., 4., 4.,\n",
       "       4., 4., 4., 4., 4., 1., 4., 4., 4., 4., 4., 4., 4., 4., 4., 4., 2.,\n",
       "       4., 4., 4., 4., 4., 4., 4., 4., 4., 4., 2., 4., 4., 4., 4., 4., 4.,\n",
       "       4., 4., 4., 4., 2., 4., 4., 4., 4., 4., 4., 4., 4., 4., 4., 2., 4.,\n",
       "       4., 2., 2., 2., 2., 2., 2., 2., 2., 2., 2., 2., 2., 2., 2., 2., 2.,\n",
       "       2., 2., 2., 2., 2., 2., 2., 2., 2., 2., 2., 2., 1., 1., 2., 2., 2.,\n",
       "       2., 2., 2., 2., 2., 2., 2., 2., 0., 2., 2., 2., 2., 2., 0., 0., 1.,\n",
       "       0., 0., 0., 2., 0., 0., 0., 0., 0., 1., 1., 1., 1., 0., 2., 1., 1.,\n",
       "       1., 2., 2., 2., 2., 2., 2., 2., 2., 2., 2., 2., 0., 1., 2., 2., 0.,\n",
       "       0., 0., 2., 0., 0., 0., 0., 0., 1., 1., 2., 0., 0., 2., 0., 0., 0.,\n",
       "       0., 0., 0., 1., 1., 0., 0., 2., 0., 0., 0., 0., 0., 0., 0., 0., 0.,\n",
       "       0., 2., 0., 0., 0., 0., 0., 0., 0., 0., 0., 0., 2., 0., 0., 0., 0.,\n",
       "       0., 0., 0., 0., 0., 0., 2., 0., 0., 0., 0., 0., 0., 0., 0., 0., 0.,\n",
       "       0., 2., 0., 0., 0., 0., 0., 0., 0., 0., 1., 1., 2., 0., 0., 0., 0.,\n",
       "       0., 0., 0., 0., 0., 0., 2., 0., 0., 0., 0., 0., 0., 0., 0., 0., 0.,\n",
       "       2., 0., 1., 1., 1., 1., 1., 1., 1., 1., 1., 2., 1., 1., 0., 0., 0.,\n",
       "       1., 1., 1., 1., 1., 2., 1., 1., 1., 1., 1., 1., 2., 2., 2., 2., 2.,\n",
       "       2., 2., 2., 0., 1., 2., 2., 2., 2., 2., 2., 2., 2., 2., 2., 2., 2.,\n",
       "       2., 2., 2., 2., 2., 2., 2., 2., 2., 2., 2., 2., 2., 2., 2., 2., 2.,\n",
       "       2., 2., 2., 2., 2., 2., 2., 0., 0., 2., 1., 1., 2., 2., 2., 2., 2.,\n",
       "       2., 2., 2., 2., 2., 2., 2., 2., 1., 1., 2., 2., 2., 2., 2., 2., 2.,\n",
       "       2., 4., 4., 0., 0., 0., 0., 2., 0., 0., 0., 0., 0., 0., 0., 0., 0.,\n",
       "       0., 2., 0., 0., 0., 0., 0., 0., 0., 0., 0., 2., 0., 2., 2., 2., 2.,\n",
       "       0., 2., 2., 2., 2., 2., 2., 2., 2., 2., 3.], dtype=float32)"
      ]
     },
     "execution_count": 82,
     "metadata": {},
     "output_type": "execute_result"
    }
   ],
   "source": [
    "np.median(npval[:, :,-1], axis=1).astype(np.float32)"
   ]
  },
  {
   "cell_type": "code",
   "execution_count": 2,
   "metadata": {},
   "outputs": [],
   "source": [
    "import yaml\n",
    "\n",
    "with open(\"../conf/config_train.yaml\", \"r\") as file:\n",
    "    config = yaml.safe_load(file)\n",
    "\n",
    "train_file_paths = config[\"data\"][\"train\"]\n",
    "val_file_paths = config[\"data\"][\"val\"]\n",
    "test_file_paths = config[\"data\"][\"test\"]\n",
    "\n",
    "model_name = config[\"training\"][\"model\"]\n",
    "batch_size = config[\"training\"][\"batch_size\"]\n",
    "epochs = config[\"training\"][\"epochs\"]\n",
    "learning_rate = config[\"training\"][\"learning_rate\"]\n",
    "weight_decay = config[\"training\"][\"weight_decay\"]\n",
    "save_dir = config[\"training\"][\"save_dir\"]\n"
   ]
  },
  {
   "cell_type": "code",
   "execution_count": 2,
   "metadata": {},
   "outputs": [],
   "source": [
    "from data import prepare_dataloaders, custom_collate_fn\n"
   ]
  },
  {
   "cell_type": "code",
   "execution_count": 3,
   "metadata": {},
   "outputs": [
    {
     "name": "stderr",
     "output_type": "stream",
     "text": [
      "Loading Train Data: 100%|██████████| 1/1 [00:26<00:00, 26.55s/it]\n",
      "Loading Validation Data: 100%|██████████| 1/1 [00:24<00:00, 24.69s/it]\n",
      "Loading Test Data: 100%|██████████| 1/1 [00:26<00:00, 26.75s/it]\n"
     ]
    }
   ],
   "source": [
    "import yaml\n",
    "\n",
    "with open(\"../conf/config_train.yaml\", \"r\") as file:\n",
    "    config = yaml.safe_load(file)\n",
    "train, val, test = prepare_dataloaders(config=config)"
   ]
  },
  {
   "cell_type": "code",
   "execution_count": 4,
   "metadata": {},
   "outputs": [
    {
     "data": {
      "text/plain": [
       "torch.Size([1, 30000, 6])"
      ]
     },
     "execution_count": 4,
     "metadata": {},
     "output_type": "execute_result"
    }
   ],
   "source": [
    "torch.unsqueeze(torch.rand(30000, 6), dim=0).size()"
   ]
  },
  {
   "cell_type": "code",
   "execution_count": 5,
   "metadata": {},
   "outputs": [],
   "source": [
    "data_loader = DataLoader(train, batch_size=64, shuffle=True, collate_fn=custom_collate_fn)"
   ]
  },
  {
   "cell_type": "code",
   "execution_count": 6,
   "metadata": {},
   "outputs": [
    {
     "name": "stdout",
     "output_type": "stream",
     "text": [
      "torch.Size([16, 1, 30000, 6])\n",
      "torch.Size([16])\n",
      "torch.Size([16, 1, 30000, 6])\n",
      "torch.Size([16])\n",
      "torch.Size([16, 1, 30000, 6])\n",
      "torch.Size([16])\n",
      "torch.Size([16, 1, 30000, 6])\n",
      "torch.Size([16])\n",
      "torch.Size([16, 1, 30000, 6])\n",
      "torch.Size([16])\n",
      "torch.Size([16, 1, 30000, 6])\n",
      "torch.Size([16])\n",
      "torch.Size([16, 1, 30000, 6])\n",
      "torch.Size([16])\n",
      "torch.Size([16, 1, 30000, 6])\n",
      "torch.Size([16])\n",
      "torch.Size([16, 1, 30000, 6])\n",
      "torch.Size([16])\n",
      "torch.Size([16, 1, 30000, 6])\n",
      "torch.Size([16])\n",
      "torch.Size([16, 1, 30000, 6])\n",
      "torch.Size([16])\n",
      "torch.Size([16, 1, 30000, 6])\n",
      "torch.Size([16])\n",
      "torch.Size([16, 1, 30000, 6])\n",
      "torch.Size([16])\n",
      "torch.Size([16, 1, 30000, 6])\n",
      "torch.Size([16])\n",
      "torch.Size([16, 1, 30000, 6])\n",
      "torch.Size([16])\n",
      "torch.Size([16, 1, 30000, 6])\n",
      "torch.Size([16])\n",
      "torch.Size([16, 1, 30000, 6])\n",
      "torch.Size([16])\n",
      "torch.Size([16, 1, 30000, 6])\n",
      "torch.Size([16])\n",
      "torch.Size([16, 1, 30000, 6])\n",
      "torch.Size([16])\n",
      "torch.Size([16, 1, 30000, 6])\n",
      "torch.Size([16])\n",
      "torch.Size([16, 1, 30000, 6])\n",
      "torch.Size([16])\n",
      "torch.Size([16, 1, 30000, 6])\n",
      "torch.Size([16])\n",
      "torch.Size([16, 1, 30000, 6])\n",
      "torch.Size([16])\n",
      "torch.Size([16, 1, 30000, 6])\n",
      "torch.Size([16])\n",
      "torch.Size([16, 1, 30000, 6])\n",
      "torch.Size([16])\n",
      "torch.Size([16, 1, 30000, 6])\n",
      "torch.Size([16])\n",
      "torch.Size([16, 1, 30000, 6])\n",
      "torch.Size([16])\n",
      "torch.Size([16, 1, 30000, 6])\n",
      "torch.Size([16])\n",
      "torch.Size([16, 1, 30000, 6])\n",
      "torch.Size([16])\n",
      "torch.Size([16, 1, 30000, 6])\n",
      "torch.Size([16])\n",
      "torch.Size([16, 1, 30000, 6])\n",
      "torch.Size([16])\n",
      "torch.Size([16, 1, 30000, 6])\n",
      "torch.Size([16])\n",
      "torch.Size([16, 1, 30000, 6])\n",
      "torch.Size([16])\n",
      "torch.Size([16, 1, 30000, 6])\n",
      "torch.Size([16])\n",
      "torch.Size([16, 1, 30000, 6])\n",
      "torch.Size([16])\n",
      "torch.Size([16, 1, 30000, 6])\n",
      "torch.Size([16])\n",
      "torch.Size([16, 1, 30000, 6])\n",
      "torch.Size([16])\n",
      "torch.Size([16, 1, 30000, 6])\n",
      "torch.Size([16])\n",
      "torch.Size([16, 1, 30000, 6])\n",
      "torch.Size([16])\n",
      "torch.Size([16, 1, 30000, 6])\n",
      "torch.Size([16])\n",
      "torch.Size([16, 1, 30000, 6])\n",
      "torch.Size([16])\n",
      "torch.Size([16, 1, 30000, 6])\n",
      "torch.Size([16])\n",
      "torch.Size([16, 1, 30000, 6])\n",
      "torch.Size([16])\n",
      "torch.Size([16, 1, 30000, 6])\n",
      "torch.Size([16])\n",
      "torch.Size([16, 1, 30000, 6])\n",
      "torch.Size([16])\n",
      "torch.Size([16, 1, 30000, 6])\n",
      "torch.Size([16])\n",
      "torch.Size([16, 1, 30000, 6])\n",
      "torch.Size([16])\n",
      "torch.Size([16, 1, 30000, 6])\n",
      "torch.Size([16])\n",
      "torch.Size([16, 1, 30000, 6])\n",
      "torch.Size([16])\n",
      "torch.Size([16, 1, 30000, 6])\n",
      "torch.Size([16])\n",
      "torch.Size([16, 1, 30000, 6])\n",
      "torch.Size([16])\n",
      "torch.Size([16, 1, 30000, 6])\n",
      "torch.Size([16])\n",
      "torch.Size([12, 1, 30000, 6])\n",
      "torch.Size([12])\n"
     ]
    }
   ],
   "source": [
    "for d, y in train:\n",
    "    print(d.size())\n",
    "    print(y.size())"
   ]
  },
  {
   "cell_type": "code",
   "execution_count": null,
   "metadata": {},
   "outputs": [],
   "source": []
  }
 ],
 "metadata": {
  "kernelspec": {
   "display_name": "sleepstudy",
   "language": "python",
   "name": "python3"
  },
  "language_info": {
   "codemirror_mode": {
    "name": "ipython",
    "version": 3
   },
   "file_extension": ".py",
   "mimetype": "text/x-python",
   "name": "python",
   "nbconvert_exporter": "python",
   "pygments_lexer": "ipython3",
   "version": "3.9.16"
  },
  "orig_nbformat": 4
 },
 "nbformat": 4,
 "nbformat_minor": 2
}
