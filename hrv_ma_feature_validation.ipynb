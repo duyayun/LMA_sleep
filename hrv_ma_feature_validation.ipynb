{
 "cells": [
  {
   "cell_type": "code",
   "execution_count": 15,
   "metadata": {},
   "outputs": [],
   "source": [
    "import polars as pl\n",
    "import numpy as np\n",
    "import pandas as pd\n",
    "from scipy import signal\n",
    "import io\n",
    "from scipy import ndimage\n",
    "import matplotlib.pyplot as plt\n",
    "import plotly.express as px\n",
    "import seaborn as sns\n",
    "import os\n",
    "from sklearn.preprocessing import RobustScaler\n",
    "import hrvanalysis as hrv\n",
    "\n",
    "\n",
    "def robust_iqr_normalization(df):\n",
    "    normalized_df = pd.DataFrame()\n",
    "    \n",
    "    for column in df.columns:\n",
    "        if column not in ['index','Epoch','Stage','lf_hf_ratio','time']:\n",
    "            Q1 = df[column].quantile(0.25)  # First quartile (Q1)\n",
    "            Q3 = df[column].quantile(0.75)  # Third quartile (Q3)\n",
    "            IQR = Q3 - Q1  # Interquartile range (IQR)\n",
    "            \n",
    "        # Normalize the data\n",
    "            normalized_df[column] = (df[column] - df[column].median()) / IQR\n",
    "        else:\n",
    "            normalized_df[column] = df[column]\n",
    "    return normalized_df"
   ]
  },
  {
   "cell_type": "code",
   "execution_count": null,
   "metadata": {},
   "outputs": [],
   "source": []
  },
  {
   "cell_type": "code",
   "execution_count": null,
   "metadata": {},
   "outputs": [],
   "source": [
    "### normalization\n",
    "\n",
    "# total_hrv = pd.DataFrame()\n",
    "yd_ls = {'yd001','yd002','yd003','yd004','yd005','yd006','yd007'}\n",
    "for yd in yd_ls:\n",
    "    ma_fl = yd+'_hrv_5min.parquet'\n",
    "    ecg_fl = yd + '_ecg_hrv_5min.parquet'\n",
    "    ma_df = pd.read_parquet('./results/'+ma_fl, engine='pyarrow')\n",
    "    normalized_ma_df = robust_iqr_normalization(ma_df)\n",
    "    ecg_df = pd.read_parquet('./results/'+ma_fl, engine='pyarrow')\n",
    "    \n",
    "    \n",
    "    # up sample 5min ecg hrv to 30s epoch level\n",
    "        # df['vlf'] = (df['vlf'] - df['vlf'].median()) / (df['vlf'].quantile(0.75)-df['vlf'].quantile(0.25))\n",
    "       \n",
    "        \n",
    "        # total_hrv = pd.concat([total_hrv,df[['lf_hf_ratio','csi','cvi','triangular_index','vlf','stages']]])\n",
    "\n",
    "\n",
    "for fl in os.listdir('./results/'):\n",
    "    if fl.endswith('5min.parquet'):\n",
    "        df = pd.read_parquet('./results/'+fl, engine='pyarrow')\n",
    "        df.index = pd.to_datetime(df['time'])\n",
    "        df = df.sort_index()"
   ]
  },
  {
   "attachments": {},
   "cell_type": "markdown",
   "metadata": {},
   "source": [
    "### test\n"
   ]
  },
  {
   "cell_type": "code",
   "execution_count": 4,
   "metadata": {},
   "outputs": [],
   "source": [
    "yd = 'yd001'"
   ]
  },
  {
   "cell_type": "code",
   "execution_count": 9,
   "metadata": {},
   "outputs": [],
   "source": [
    "ma_fl = yd+'_hrv_5min.parquet'\n",
    "df = pd.read_parquet('./results/'+ma_fl, engine='pyarrow')\n",
    "# normalized_df = robust_iqr_normalization(df)\n",
    "\n",
    "ma_df = pd.read_parquet('./results/'+ma_fl, engine='pyarrow')"
   ]
  },
  {
   "cell_type": "code",
   "execution_count": 16,
   "metadata": {},
   "outputs": [],
   "source": [
    "normalized_ma_df = robust_iqr_normalization(ma_df)"
   ]
  },
  {
   "cell_type": "code",
   "execution_count": 17,
   "metadata": {},
   "outputs": [],
   "source": [
    "ecg_fl = yd + '_ecg_hrv_5min.parquet'"
   ]
  },
  {
   "cell_type": "code",
   "execution_count": 19,
   "metadata": {},
   "outputs": [],
   "source": [
    "ecg_df = pd.read_parquet('./results/'+ecg_fl, engine='pyarrow')\n"
   ]
  },
  {
   "cell_type": "code",
   "execution_count": 22,
   "metadata": {},
   "outputs": [
    {
     "name": "stderr",
     "output_type": "stream",
     "text": [
      "C:\\Users\\13103\\AppData\\Local\\Temp\\ipykernel_327424\\1168270060.py:1: FutureWarning: In a future version of pandas all arguments of DataFrame.sort_index will be keyword-only.\n",
      "  tm_df = ma_df[['time','Epoch','Stage']].sort_index('time')\n"
     ]
    },
    {
     "ename": "ValueError",
     "evalue": "No axis named time for object type DataFrame",
     "output_type": "error",
     "traceback": [
      "\u001b[1;31m---------------------------------------------------------------------------\u001b[0m",
      "\u001b[1;31mKeyError\u001b[0m                                  Traceback (most recent call last)",
      "File \u001b[1;32m~\\AppData\\Local\\Packages\\PythonSoftwareFoundation.Python.3.10_qbz5n2kfra8p0\\LocalCache\\local-packages\\Python310\\site-packages\\pandas\\core\\generic.py:554\u001b[0m, in \u001b[0;36mNDFrame._get_axis_number\u001b[1;34m(cls, axis)\u001b[0m\n\u001b[0;32m    553\u001b[0m \u001b[39mtry\u001b[39;00m:\n\u001b[1;32m--> 554\u001b[0m     \u001b[39mreturn\u001b[39;00m \u001b[39mcls\u001b[39;49m\u001b[39m.\u001b[39;49m_AXIS_TO_AXIS_NUMBER[axis]\n\u001b[0;32m    555\u001b[0m \u001b[39mexcept\u001b[39;00m \u001b[39mKeyError\u001b[39;00m:\n",
      "\u001b[1;31mKeyError\u001b[0m: 'time'",
      "\nDuring handling of the above exception, another exception occurred:\n",
      "\u001b[1;31mValueError\u001b[0m                                Traceback (most recent call last)",
      "Cell \u001b[1;32mIn[22], line 1\u001b[0m\n\u001b[1;32m----> 1\u001b[0m tm_df \u001b[39m=\u001b[39m ma_df[[\u001b[39m'\u001b[39;49m\u001b[39mtime\u001b[39;49m\u001b[39m'\u001b[39;49m,\u001b[39m'\u001b[39;49m\u001b[39mEpoch\u001b[39;49m\u001b[39m'\u001b[39;49m,\u001b[39m'\u001b[39;49m\u001b[39mStage\u001b[39;49m\u001b[39m'\u001b[39;49m]]\u001b[39m.\u001b[39;49msort_index(\u001b[39m'\u001b[39;49m\u001b[39mtime\u001b[39;49m\u001b[39m'\u001b[39;49m)\n",
      "File \u001b[1;32m~\\AppData\\Local\\Packages\\PythonSoftwareFoundation.Python.3.10_qbz5n2kfra8p0\\LocalCache\\local-packages\\Python310\\site-packages\\pandas\\util\\_decorators.py:331\u001b[0m, in \u001b[0;36mdeprecate_nonkeyword_arguments.<locals>.decorate.<locals>.wrapper\u001b[1;34m(*args, **kwargs)\u001b[0m\n\u001b[0;32m    325\u001b[0m \u001b[39mif\u001b[39;00m \u001b[39mlen\u001b[39m(args) \u001b[39m>\u001b[39m num_allow_args:\n\u001b[0;32m    326\u001b[0m     warnings\u001b[39m.\u001b[39mwarn(\n\u001b[0;32m    327\u001b[0m         msg\u001b[39m.\u001b[39mformat(arguments\u001b[39m=\u001b[39m_format_argument_list(allow_args)),\n\u001b[0;32m    328\u001b[0m         \u001b[39mFutureWarning\u001b[39;00m,\n\u001b[0;32m    329\u001b[0m         stacklevel\u001b[39m=\u001b[39mfind_stack_level(),\n\u001b[0;32m    330\u001b[0m     )\n\u001b[1;32m--> 331\u001b[0m \u001b[39mreturn\u001b[39;00m func(\u001b[39m*\u001b[39margs, \u001b[39m*\u001b[39m\u001b[39m*\u001b[39mkwargs)\n",
      "File \u001b[1;32m~\\AppData\\Local\\Packages\\PythonSoftwareFoundation.Python.3.10_qbz5n2kfra8p0\\LocalCache\\local-packages\\Python310\\site-packages\\pandas\\core\\frame.py:7092\u001b[0m, in \u001b[0;36mDataFrame.sort_index\u001b[1;34m(self, axis, level, ascending, inplace, kind, na_position, sort_remaining, ignore_index, key)\u001b[0m\n\u001b[0;32m   6990\u001b[0m \u001b[39m@deprecate_nonkeyword_arguments\u001b[39m(version\u001b[39m=\u001b[39m\u001b[39mNone\u001b[39;00m, allowed_args\u001b[39m=\u001b[39m[\u001b[39m\"\u001b[39m\u001b[39mself\u001b[39m\u001b[39m\"\u001b[39m])\n\u001b[0;32m   6991\u001b[0m \u001b[39mdef\u001b[39;00m \u001b[39msort_index\u001b[39m(  \u001b[39m# type: ignore[override]\u001b[39;00m\n\u001b[0;32m   6992\u001b[0m     \u001b[39mself\u001b[39m,\n\u001b[1;32m   (...)\u001b[0m\n\u001b[0;32m   7001\u001b[0m     key: IndexKeyFunc \u001b[39m=\u001b[39m \u001b[39mNone\u001b[39;00m,\n\u001b[0;32m   7002\u001b[0m ) \u001b[39m-\u001b[39m\u001b[39m>\u001b[39m DataFrame \u001b[39m|\u001b[39m \u001b[39mNone\u001b[39;00m:\n\u001b[0;32m   7003\u001b[0m \u001b[39m    \u001b[39m\u001b[39m\"\"\"\u001b[39;00m\n\u001b[0;32m   7004\u001b[0m \u001b[39m    Sort object by labels (along an axis).\u001b[39;00m\n\u001b[0;32m   7005\u001b[0m \n\u001b[1;32m   (...)\u001b[0m\n\u001b[0;32m   7090\u001b[0m \u001b[39m    d  4\u001b[39;00m\n\u001b[0;32m   7091\u001b[0m \u001b[39m    \"\"\"\u001b[39;00m\n\u001b[1;32m-> 7092\u001b[0m     \u001b[39mreturn\u001b[39;00m \u001b[39msuper\u001b[39;49m()\u001b[39m.\u001b[39;49msort_index(\n\u001b[0;32m   7093\u001b[0m         axis\u001b[39m=\u001b[39;49maxis,\n\u001b[0;32m   7094\u001b[0m         level\u001b[39m=\u001b[39;49mlevel,\n\u001b[0;32m   7095\u001b[0m         ascending\u001b[39m=\u001b[39;49mascending,\n\u001b[0;32m   7096\u001b[0m         inplace\u001b[39m=\u001b[39;49minplace,\n\u001b[0;32m   7097\u001b[0m         kind\u001b[39m=\u001b[39;49mkind,\n\u001b[0;32m   7098\u001b[0m         na_position\u001b[39m=\u001b[39;49mna_position,\n\u001b[0;32m   7099\u001b[0m         sort_remaining\u001b[39m=\u001b[39;49msort_remaining,\n\u001b[0;32m   7100\u001b[0m         ignore_index\u001b[39m=\u001b[39;49mignore_index,\n\u001b[0;32m   7101\u001b[0m         key\u001b[39m=\u001b[39;49mkey,\n\u001b[0;32m   7102\u001b[0m     )\n",
      "File \u001b[1;32m~\\AppData\\Local\\Packages\\PythonSoftwareFoundation.Python.3.10_qbz5n2kfra8p0\\LocalCache\\local-packages\\Python310\\site-packages\\pandas\\core\\generic.py:5005\u001b[0m, in \u001b[0;36mNDFrame.sort_index\u001b[1;34m(self, axis, level, ascending, inplace, kind, na_position, sort_remaining, ignore_index, key)\u001b[0m\n\u001b[0;32m   4991\u001b[0m \u001b[39mdef\u001b[39;00m \u001b[39msort_index\u001b[39m(\n\u001b[0;32m   4992\u001b[0m     \u001b[39mself\u001b[39m: NDFrameT,\n\u001b[0;32m   4993\u001b[0m     axis: Axis \u001b[39m=\u001b[39m \u001b[39m0\u001b[39m,\n\u001b[1;32m   (...)\u001b[0m\n\u001b[0;32m   5001\u001b[0m     key: IndexKeyFunc \u001b[39m=\u001b[39m \u001b[39mNone\u001b[39;00m,\n\u001b[0;32m   5002\u001b[0m ) \u001b[39m-\u001b[39m\u001b[39m>\u001b[39m NDFrameT \u001b[39m|\u001b[39m \u001b[39mNone\u001b[39;00m:\n\u001b[0;32m   5004\u001b[0m     inplace \u001b[39m=\u001b[39m validate_bool_kwarg(inplace, \u001b[39m\"\u001b[39m\u001b[39minplace\u001b[39m\u001b[39m\"\u001b[39m)\n\u001b[1;32m-> 5005\u001b[0m     axis \u001b[39m=\u001b[39m \u001b[39mself\u001b[39;49m\u001b[39m.\u001b[39;49m_get_axis_number(axis)\n\u001b[0;32m   5006\u001b[0m     ascending \u001b[39m=\u001b[39m validate_ascending(ascending)\n\u001b[0;32m   5008\u001b[0m     target \u001b[39m=\u001b[39m \u001b[39mself\u001b[39m\u001b[39m.\u001b[39m_get_axis(axis)\n",
      "File \u001b[1;32m~\\AppData\\Local\\Packages\\PythonSoftwareFoundation.Python.3.10_qbz5n2kfra8p0\\LocalCache\\local-packages\\Python310\\site-packages\\pandas\\core\\generic.py:556\u001b[0m, in \u001b[0;36mNDFrame._get_axis_number\u001b[1;34m(cls, axis)\u001b[0m\n\u001b[0;32m    554\u001b[0m     \u001b[39mreturn\u001b[39;00m \u001b[39mcls\u001b[39m\u001b[39m.\u001b[39m_AXIS_TO_AXIS_NUMBER[axis]\n\u001b[0;32m    555\u001b[0m \u001b[39mexcept\u001b[39;00m \u001b[39mKeyError\u001b[39;00m:\n\u001b[1;32m--> 556\u001b[0m     \u001b[39mraise\u001b[39;00m \u001b[39mValueError\u001b[39;00m(\u001b[39mf\u001b[39m\u001b[39m\"\u001b[39m\u001b[39mNo axis named \u001b[39m\u001b[39m{\u001b[39;00maxis\u001b[39m}\u001b[39;00m\u001b[39m for object type \u001b[39m\u001b[39m{\u001b[39;00m\u001b[39mcls\u001b[39m\u001b[39m.\u001b[39m\u001b[39m__name__\u001b[39m\u001b[39m}\u001b[39;00m\u001b[39m\"\u001b[39m)\n",
      "\u001b[1;31mValueError\u001b[0m: No axis named time for object type DataFrame"
     ]
    }
   ],
   "source": [
    "tm_df = ma_df[['time','Epoch','Stage']]\n",
    "tm_df.index = tm_df['time']\n"
   ]
  },
  {
   "cell_type": "code",
   "execution_count": 26,
   "metadata": {},
   "outputs": [
    {
     "data": {
      "text/plain": [
       "0        <Epoch>-\n",
       "1        <Epoch>1\n",
       "2       <Epoch>10\n",
       "3      <Epoch>100\n",
       "4      <Epoch>101\n",
       "          ...    \n",
       "846     <Epoch>95\n",
       "847     <Epoch>96\n",
       "848     <Epoch>97\n",
       "849     <Epoch>98\n",
       "850     <Epoch>99\n",
       "Name: Epoch, Length: 851, dtype: object"
      ]
     },
     "execution_count": 26,
     "metadata": {},
     "output_type": "execute_result"
    }
   ],
   "source": [
    "ma_df['Epoch']"
   ]
  },
  {
   "cell_type": "code",
   "execution_count": 24,
   "metadata": {},
   "outputs": [],
   "source": [
    "tm_df.index = tm_df['time']\n",
    "tm_df = tm_df.sort_index()"
   ]
  },
  {
   "cell_type": "code",
   "execution_count": 28,
   "metadata": {},
   "outputs": [],
   "source": [
    "ecg_df.index = ecg_df.time"
   ]
  },
  {
   "cell_type": "code",
   "execution_count": null,
   "metadata": {},
   "outputs": [],
   "source": []
  },
  {
   "cell_type": "code",
   "execution_count": 29,
   "metadata": {},
   "outputs": [
    {
     "data": {
      "text/plain": [
       "DatetimeIndex(['2023-04-17 22:47:57.599000', '2023-04-17 22:52:59.246000',\n",
       "               '2023-04-17 22:57:59.683000', '2023-04-17 23:03:00.228000',\n",
       "               '2023-04-17 23:08:01.066000', '2023-04-17 23:13:01.414000',\n",
       "               '2023-04-17 23:18:02.429000', '2023-04-17 23:23:02.326000',\n",
       "               '2023-04-17 23:28:03.056000', '2023-04-17 23:33:03.517000',\n",
       "               '2023-04-17 23:38:03.880000', '2023-04-17 23:43:04.515000',\n",
       "               '2023-04-17 23:48:05.445000', '2023-04-17 23:53:06.351000',\n",
       "               '2023-04-17 23:58:06.421000', '2023-04-18 00:03:07.310000',\n",
       "               '2023-04-18 00:08:07.777000', '2023-04-18 00:13:09.582000',\n",
       "               '2023-04-18 00:18:10.773000', '2023-04-18 00:23:11.587000',\n",
       "               '2023-04-18 00:28:12.201000', '2023-04-18 00:33:12.746000',\n",
       "               '2023-04-18 00:38:13.300000', '2023-04-18 00:43:14.042000',\n",
       "               '2023-04-18 00:48:17.302000', '2023-04-18 00:53:21.408000',\n",
       "               '2023-04-18 00:58:24.822000', '2023-04-18 01:03:29.474000',\n",
       "               '2023-04-18 01:08:31.369000', '2023-04-18 01:13:37.406000',\n",
       "               '2023-04-18 01:18:39.326000', '2023-04-18 01:23:41.361000',\n",
       "               '2023-04-18 01:28:42.951000', '2023-04-18 01:33:45.203000',\n",
       "               '2023-04-18 01:38:48.697000', '2023-04-18 01:43:50.986000',\n",
       "               '2023-04-18 01:48:53.529000', '2023-04-18 01:53:53.773000',\n",
       "               '2023-04-18 01:58:53.958000', '2023-04-18 02:03:55.333000',\n",
       "               '2023-04-18 02:08:55.380000', '2023-04-18 02:13:55.828000',\n",
       "               '2023-04-18 02:18:56.792000', '2023-04-18 02:23:57.855000',\n",
       "               '2023-04-18 02:29:04.800000', '2023-04-18 02:34:09.781000',\n",
       "               '2023-04-18 02:39:15.304000', '2023-04-18 02:44:17.908000',\n",
       "               '2023-04-18 02:49:25.412000', '2023-04-18 02:54:32.207000',\n",
       "               '2023-04-18 02:59:35.042000', '2023-04-18 03:04:38.716000',\n",
       "               '2023-04-18 03:09:40.898000', '2023-04-18 03:14:41.830000',\n",
       "               '2023-04-18 03:19:42.347000', '2023-04-18 03:24:42.847000',\n",
       "               '2023-04-18 03:29:44.812000', '2023-04-18 03:34:46.591000',\n",
       "               '2023-04-18 03:39:50.158000', '2023-04-18 03:44:53.781000',\n",
       "               '2023-04-18 03:49:54.417000', '2023-04-18 03:54:54.906000',\n",
       "               '2023-04-18 03:59:58.201000', '2023-04-18 04:05:01.179000',\n",
       "               '2023-04-18 04:10:01.746000', '2023-04-18 04:15:01.904000',\n",
       "               '2023-04-18 04:20:02.681000', '2023-04-18 04:25:03.277000',\n",
       "               '2023-04-18 04:30:04.617000'],\n",
       "              dtype='datetime64[ns]', name='time', freq=None)"
      ]
     },
     "execution_count": 29,
     "metadata": {},
     "output_type": "execute_result"
    }
   ],
   "source": [
    "ecg_df.index"
   ]
  },
  {
   "cell_type": "code",
   "execution_count": null,
   "metadata": {},
   "outputs": [],
   "source": []
  }
 ],
 "metadata": {
  "kernelspec": {
   "display_name": "Python 3",
   "language": "python",
   "name": "python3"
  },
  "language_info": {
   "codemirror_mode": {
    "name": "ipython",
    "version": 3
   },
   "file_extension": ".py",
   "mimetype": "text/x-python",
   "name": "python",
   "nbconvert_exporter": "python",
   "pygments_lexer": "ipython3",
   "version": "3.10.11"
  },
  "orig_nbformat": 4
 },
 "nbformat": 4,
 "nbformat_minor": 2
}
