{
 "cells": [
  {
   "cell_type": "code",
   "execution_count": 2,
   "metadata": {},
   "outputs": [
    {
     "ename": "FileNotFoundError",
     "evalue": "[Errno 2] Failed to open local file 'C:\\Users\\13103\\Documents\\data_analysis\\PSG\\MA\\0327\\IMU.csv'. Detail: [errno 2] No such file or directory",
     "output_type": "error",
     "traceback": [
      "\u001b[0;31m---------------------------------------------------------------------------\u001b[0m",
      "\u001b[0;31mFileNotFoundError\u001b[0m                         Traceback (most recent call last)",
      "Cell \u001b[0;32mIn[2], line 16\u001b[0m\n\u001b[1;32m     13\u001b[0m \u001b[39mdef\u001b[39;00m \u001b[39mget_filename\u001b[39m(primary):\n\u001b[1;32m     14\u001b[0m     \u001b[39mreturn\u001b[39;00m \u001b[39mr\u001b[39m\u001b[39m'\u001b[39m\u001b[39mC:\u001b[39m\u001b[39m\\\u001b[39m\u001b[39mUsers\u001b[39m\u001b[39m\\\u001b[39m\u001b[39m13103\u001b[39m\u001b[39m\\\u001b[39m\u001b[39mDocuments\u001b[39m\u001b[39m\\\u001b[39m\u001b[39mdata_analysis\u001b[39m\u001b[39m\\\u001b[39m\u001b[39mPSG\u001b[39m\u001b[39m\\\u001b[39m\u001b[39mMA\u001b[39m\u001b[39m\\\u001b[39m\u001b[39m0327\u001b[39m\u001b[39m\\\u001b[39m\u001b[39mIMU.csv\u001b[39m\u001b[39m'\u001b[39m\n\u001b[0;32m---> 16\u001b[0m xl0 \u001b[39m=\u001b[39m file_to_lazy_frame(get_filename(\u001b[39mTrue\u001b[39;49;00m))\n\u001b[1;32m     17\u001b[0m xl1 \u001b[39m=\u001b[39m file_to_lazy_frame(get_filename(\u001b[39mFalse\u001b[39;00m))\n\u001b[1;32m     19\u001b[0m \u001b[39m# join data from each imu by the millisecond\u001b[39;00m\n",
      "Cell \u001b[0;32mIn[2], line 11\u001b[0m, in \u001b[0;36mfile_to_lazy_frame\u001b[0;34m(filename)\u001b[0m\n\u001b[1;32m     10\u001b[0m \u001b[39mdef\u001b[39;00m \u001b[39mfile_to_lazy_frame\u001b[39m(filename):\n\u001b[0;32m---> 11\u001b[0m     \u001b[39mreturn\u001b[39;00m pl\u001b[39m.\u001b[39;49mread_csv(filename, columns\u001b[39m=\u001b[39;49m[\u001b[39m'\u001b[39;49m\u001b[39mts\u001b[39;49m\u001b[39m'\u001b[39;49m, \u001b[39m'\u001b[39;49m\u001b[39mz\u001b[39;49m\u001b[39m'\u001b[39;49m], use_pyarrow\u001b[39m=\u001b[39;49m\u001b[39mTrue\u001b[39;49;00m)\u001b[39m.\u001b[39mselect([pl\u001b[39m.\u001b[39mcol(\u001b[39m'\u001b[39m\u001b[39mts\u001b[39m\u001b[39m'\u001b[39m)\u001b[39m.\u001b[39mcast(pl\u001b[39m.\u001b[39mDatetime), pl\u001b[39m.\u001b[39mcol(\u001b[39m'\u001b[39m\u001b[39mz\u001b[39m\u001b[39m'\u001b[39m)\u001b[39m.\u001b[39mcast(pl\u001b[39m.\u001b[39mInt16)])\u001b[39m.\u001b[39minterpolate()\u001b[39m.\u001b[39mfilter(pl\u001b[39m.\u001b[39mcol(\u001b[39m'\u001b[39m\u001b[39mts\u001b[39m\u001b[39m'\u001b[39m)\u001b[39m.\u001b[39mis_not_null())\u001b[39m.\u001b[39mfilter(pl\u001b[39m.\u001b[39mcol(\u001b[39m'\u001b[39m\u001b[39mz\u001b[39m\u001b[39m'\u001b[39m)\u001b[39m.\u001b[39mis_not_null())\n",
      "File \u001b[0;32m~/opt/anaconda3/envs/sleepstudy/lib/python3.9/site-packages/polars/io/csv/functions.py:233\u001b[0m, in \u001b[0;36mread_csv\u001b[0;34m(source, has_header, columns, new_columns, separator, comment_char, quote_char, skip_rows, dtypes, null_values, missing_utf8_is_empty_string, ignore_errors, try_parse_dates, n_threads, infer_schema_length, batch_size, n_rows, encoding, low_memory, rechunk, use_pyarrow, storage_options, skip_rows_after_header, row_count_name, row_count_offset, sample_size, eol_char)\u001b[0m\n\u001b[1;32m    230\u001b[0m     \u001b[39mimport\u001b[39;00m \u001b[39mpyarrow\u001b[39;00m \u001b[39mas\u001b[39;00m \u001b[39mpa\u001b[39;00m\n\u001b[1;32m    231\u001b[0m     \u001b[39mimport\u001b[39;00m \u001b[39mpyarrow\u001b[39;00m\u001b[39m.\u001b[39;00m\u001b[39mcsv\u001b[39;00m\n\u001b[0;32m--> 233\u001b[0m     tbl \u001b[39m=\u001b[39m pa\u001b[39m.\u001b[39;49mcsv\u001b[39m.\u001b[39;49mread_csv(\n\u001b[1;32m    234\u001b[0m         data,\n\u001b[1;32m    235\u001b[0m         pa\u001b[39m.\u001b[39;49mcsv\u001b[39m.\u001b[39;49mReadOptions(\n\u001b[1;32m    236\u001b[0m             skip_rows\u001b[39m=\u001b[39;49mskip_rows,\n\u001b[1;32m    237\u001b[0m             autogenerate_column_names\u001b[39m=\u001b[39;49m\u001b[39mnot\u001b[39;49;00m has_header,\n\u001b[1;32m    238\u001b[0m             encoding\u001b[39m=\u001b[39;49mencoding,\n\u001b[1;32m    239\u001b[0m         ),\n\u001b[1;32m    240\u001b[0m         pa\u001b[39m.\u001b[39;49mcsv\u001b[39m.\u001b[39;49mParseOptions(\n\u001b[1;32m    241\u001b[0m             delimiter\u001b[39m=\u001b[39;49mseparator,\n\u001b[1;32m    242\u001b[0m             quote_char\u001b[39m=\u001b[39;49mquote_char \u001b[39mif\u001b[39;49;00m quote_char \u001b[39melse\u001b[39;49;00m \u001b[39mFalse\u001b[39;49;00m,\n\u001b[1;32m    243\u001b[0m             double_quote\u001b[39m=\u001b[39;49mquote_char \u001b[39mis\u001b[39;49;00m \u001b[39mnot\u001b[39;49;00m \u001b[39mNone\u001b[39;49;00m \u001b[39mand\u001b[39;49;00m quote_char \u001b[39m==\u001b[39;49m \u001b[39m'\u001b[39;49m\u001b[39m\"\u001b[39;49m\u001b[39m'\u001b[39;49m,\n\u001b[1;32m    244\u001b[0m         ),\n\u001b[1;32m    245\u001b[0m         pa\u001b[39m.\u001b[39;49mcsv\u001b[39m.\u001b[39;49mConvertOptions(\n\u001b[1;32m    246\u001b[0m             column_types\u001b[39m=\u001b[39;49m\u001b[39mNone\u001b[39;49;00m,\n\u001b[1;32m    247\u001b[0m             include_columns\u001b[39m=\u001b[39;49minclude_columns,\n\u001b[1;32m    248\u001b[0m             include_missing_columns\u001b[39m=\u001b[39;49mignore_errors,\n\u001b[1;32m    249\u001b[0m         ),\n\u001b[1;32m    250\u001b[0m     )\n\u001b[1;32m    252\u001b[0m \u001b[39mif\u001b[39;00m \u001b[39mnot\u001b[39;00m has_header:\n\u001b[1;32m    253\u001b[0m     \u001b[39m# Rename 'f0', 'f1', ... columns names autogenerated by pyarrow\u001b[39;00m\n\u001b[1;32m    254\u001b[0m     \u001b[39m# to 'column_1', 'column_2', ...\u001b[39;00m\n\u001b[1;32m    255\u001b[0m     tbl \u001b[39m=\u001b[39m tbl\u001b[39m.\u001b[39mrename_columns(\n\u001b[1;32m    256\u001b[0m         [\u001b[39mf\u001b[39m\u001b[39m\"\u001b[39m\u001b[39mcolumn_\u001b[39m\u001b[39m{\u001b[39;00m\u001b[39mint\u001b[39m(column[\u001b[39m1\u001b[39m:])\u001b[39m \u001b[39m\u001b[39m+\u001b[39m\u001b[39m \u001b[39m\u001b[39m1\u001b[39m\u001b[39m}\u001b[39;00m\u001b[39m\"\u001b[39m \u001b[39mfor\u001b[39;00m column \u001b[39min\u001b[39;00m tbl\u001b[39m.\u001b[39mcolumn_names]\n\u001b[1;32m    257\u001b[0m     )\n",
      "File \u001b[0;32m~/opt/anaconda3/envs/sleepstudy/lib/python3.9/site-packages/pyarrow/_csv.pyx:1212\u001b[0m, in \u001b[0;36mpyarrow._csv.read_csv\u001b[0;34m()\u001b[0m\n",
      "File \u001b[0;32m~/opt/anaconda3/envs/sleepstudy/lib/python3.9/site-packages/pyarrow/_csv.pyx:1077\u001b[0m, in \u001b[0;36mpyarrow._csv._get_reader\u001b[0;34m()\u001b[0m\n",
      "File \u001b[0;32m~/opt/anaconda3/envs/sleepstudy/lib/python3.9/site-packages/pyarrow/io.pxi:1781\u001b[0m, in \u001b[0;36mpyarrow.lib.get_input_stream\u001b[0;34m()\u001b[0m\n",
      "File \u001b[0;32m~/opt/anaconda3/envs/sleepstudy/lib/python3.9/site-packages/pyarrow/io.pxi:1752\u001b[0m, in \u001b[0;36mpyarrow.lib.get_native_file\u001b[0;34m()\u001b[0m\n",
      "File \u001b[0;32m~/opt/anaconda3/envs/sleepstudy/lib/python3.9/site-packages/pyarrow/io.pxi:995\u001b[0m, in \u001b[0;36mpyarrow.lib.OSFile.__cinit__\u001b[0;34m()\u001b[0m\n",
      "File \u001b[0;32m~/opt/anaconda3/envs/sleepstudy/lib/python3.9/site-packages/pyarrow/io.pxi:1005\u001b[0m, in \u001b[0;36mpyarrow.lib.OSFile._open_readable\u001b[0;34m()\u001b[0m\n",
      "File \u001b[0;32m~/opt/anaconda3/envs/sleepstudy/lib/python3.9/site-packages/pyarrow/error.pxi:144\u001b[0m, in \u001b[0;36mpyarrow.lib.pyarrow_internal_check_status\u001b[0;34m()\u001b[0m\n",
      "File \u001b[0;32m~/opt/anaconda3/envs/sleepstudy/lib/python3.9/site-packages/pyarrow/error.pxi:113\u001b[0m, in \u001b[0;36mpyarrow.lib.check_status\u001b[0;34m()\u001b[0m\n",
      "\u001b[0;31mFileNotFoundError\u001b[0m: [Errno 2] Failed to open local file 'C:\\Users\\13103\\Documents\\data_analysis\\PSG\\MA\\0327\\IMU.csv'. Detail: [errno 2] No such file or directory"
     ]
    }
   ],
   "source": [
    "# new MA\n",
    "import polars as pl\n",
    "import numpy as np\n",
    "import pandas as pd\n",
    "from scipy import signal\n",
    "import io\n",
    "from scipy import ndimage\n",
    "import matplotlib.pyplot as plt\n",
    "\n",
    "def file_to_lazy_frame(filename):\n",
    "    return pl.read_csv(filename, columns=['ts', 'z'], use_pyarrow=True).select([pl.col('ts').cast(pl.Datetime), pl.col('z').cast(pl.Int16)]).interpolate().filter(pl.col('ts').is_not_null()).filter(pl.col('z').is_not_null())\n",
    "\n",
    "def get_filename(primary):\n",
    "    return r'C:\\Users\\13103\\Documents\\data_analysis\\PSG\\MA\\0327\\IMU.csv'\n",
    "\n",
    "xl0 = file_to_lazy_frame(get_filename(True))\n",
    "xl1 = file_to_lazy_frame(get_filename(False))\n",
    "\n",
    "# join data from each imu by the millisecond\n",
    "xlz = xl0.groupby_dynamic('ts', every='1ms').agg(pl.mean('z')).rename({'z': 'z0'}).join(xl1.groupby_dynamic('ts', every='1ms').agg(pl.mean('z')).rename({'z': 'z1'}), on='ts', how='inner').select([pl.col('ts'), pl.col('z0').cast(pl.Int16), pl.col('z1').cast(pl.Int16)])\n",
    "\n",
    "# convert into a pandas dataframe\n",
    "df = xlz.to_pandas()\n",
    "# convert into a pandas series\n",
    "series = xlz.select(pl.col('z0')).to_series()\n",
    "\n",
    "df = df.rename(columns={'z0': 'z'})\n",
    "df['z'] = df['z']*2/9800\n",
    "df['x'] = 0\n",
    "df['y'] = 0\n",
    "# df['ts'] = df ['ts']/10**6\n",
    "# df.index = df['ts'].values.astype(np.int64)#CWT\n",
    "df.index = pd.to_datetime(df['ts'].values.astype(np.int64))\n",
    "csv = df['z']\n",
    "csv.index = csv.index.values.astype(np.int64)\n"
   ]
  },
  {
   "cell_type": "code",
   "execution_count": null,
   "metadata": {},
   "outputs": [
    {
     "ename": "NameError",
     "evalue": "name 'np' is not defined",
     "output_type": "error",
     "traceback": [
      "\u001b[0;31m---------------------------------------------------------------------------\u001b[0m",
      "\u001b[0;31mNameError\u001b[0m                                 Traceback (most recent call last)",
      "Cell \u001b[0;32mIn[1], line 13\u001b[0m\n\u001b[1;32m      9\u001b[0m     \u001b[39mreturn\u001b[39;00m pd\u001b[39m.\u001b[39mDataFrame(data\u001b[39m=\u001b[39msignal\u001b[39m.\u001b[39msosfiltfilt(sos,sig,axis\u001b[39m=\u001b[39m\u001b[39m0\u001b[39m),columns\u001b[39m=\u001b[39msig\u001b[39m.\u001b[39mcolumns,index\u001b[39m=\u001b[39msig\u001b[39m.\u001b[39mindex)\n\u001b[1;32m     11\u001b[0m \u001b[39m##generate cwt matrix\u001b[39;00m\n\u001b[0;32m---> 13\u001b[0m fs \u001b[39m=\u001b[39m \u001b[39m1e-09\u001b[39m\u001b[39m*\u001b[39m\u001b[39m*\u001b[39m\u001b[39m-\u001b[39m\u001b[39m1\u001b[39m\u001b[39m/\u001b[39mnp\u001b[39m.\u001b[39mmedian(np\u001b[39m.\u001b[39mdiff(csv\u001b[39m.\u001b[39mindex\u001b[39m.\u001b[39mvalues\u001b[39m.\u001b[39mastype(np\u001b[39m.\u001b[39mint64)))\n\u001b[1;32m     14\u001b[0m \u001b[39mprint\u001b[39m(fs)\n\u001b[1;32m     15\u001b[0m csv \u001b[39m=\u001b[39m pd\u001b[39m.\u001b[39mDataFrame(csv)\n",
      "\u001b[0;31mNameError\u001b[0m: name 'np' is not defined"
     ]
    }
   ],
   "source": [
    "def shannon_energy(x):\n",
    "    x_env = -x**2 * np.log(x**2)\n",
    "    return(x_env)\n",
    "\n",
    "def bandpass_filt(sig,cutoff,fs,mode):\n",
    "    nyq = 0.5*fs\n",
    "    wn = cutoff/nyq\n",
    "    sos = signal.butter(4, wn, btype=mode,output='sos')\n",
    "    return pd.DataFrame(data=signal.sosfiltfilt(sos,sig,axis=0),columns=sig.columns,index=sig.index)\n",
    "\n",
    "##generate cwt matrix\n",
    "\n",
    "fs = 1e-09**-1/np.median(np.diff(csv.index.values.astype(np.int64)))\n",
    "print(fs)\n",
    "csv = pd.DataFrame(csv)\n",
    "test_bp = bandpass_filt(csv,(20,51),fs,'bandpass')\n",
    "test_bp = test_bp.to_numpy().flatten()\n",
    "cwtmtx = signal.cwt(test_bp,signal.morlet,np.arange(1,100))\n",
    "tm = pd.to_datetime(csv.index)\n",
    "\n",
    "## find cwt local maxiums \n",
    "cwt_pk = cwtmtx.T[:,1:15]\n",
    "cwt_pks = cwt_pk.max(axis=1)\n",
    "\n",
    "\n",
    "#use shannon energy to process oscaliating signal\n",
    "cwt_se = shannon_energy(cwt_pks)\n",
    "cwt_se_gs = ndimage.gaussian_filter(np.abs(cwt_se),sigma=25)#40 is taken from the average heart sound lobe of 100ms 0.1*fs/4\n",
    "\n",
    "fig, axs = plt.subplots(3,sharex=True,figsize=(30,20))\n",
    "\n",
    "axs[0].plot(tm[3990000:4010000],cwt_se_gs[3990000:4010000])\n",
    "axs[0].set_ylabel('CWT_SEE',fontsize=16)\n",
    "axs[1].plot(tm[3990000:4010000],test_bp[3990000:4010000])\n",
    "axs[1].set_ylabel('bp (20-48 Hz)',fontsize=16)\n",
    "axs[2].plot(tm[3990000:4010000],csv[3990000:4010000])\n",
    "axs[2].set_ylabel('Z axis',fontsize=16)"
   ]
  },
  {
   "cell_type": "code",
   "execution_count": null,
   "metadata": {},
   "outputs": [],
   "source": [
    "#interval calculation\n",
    "peaks, _ = signal.find_peaks(cwt_se_gs,height=0.2*10**-5,distance=350)\n",
    "itv_1 = peaks[0]\n",
    "i = 0\n",
    "hr = pd.DataFrame(columns=['index','Hr'])\n",
    "while i < peaks.size-2:\n",
    "\n",
    "    interval = peaks[i+2]-itv_1\n",
    "    # itv_1 = peaks[i+2]\n",
    "    # i = i+2\n",
    "    if interval > 1200:\n",
    "        interval = peaks[i+1]-itv_1\n",
    "        if interval > 1200:\n",
    "            interval = np.nan\n",
    "        itv_1 = peaks[i+1]\n",
    "        i = i+1\n",
    "    else: \n",
    "        itv_1 = peaks[i+2]\n",
    "        i = i+2\n",
    "    \n",
    "\n",
    "    hr_df = pd.DataFrame({'index': itv_1,'Hr':interval},index = [itv_1])\n",
    "    hr = pd.concat([hr,hr_df])\n",
    "\n",
    "hr.index = hr['index']\n",
    "filtered_hr = hr[(hr['Hr']<1200) & (hr['Hr']>750)]\n",
    "filtered_hr = fs/filtered_hr*60"
   ]
  },
  {
   "cell_type": "code",
   "execution_count": null,
   "metadata": {},
   "outputs": [],
   "source": []
  }
 ],
 "metadata": {
  "kernelspec": {
   "display_name": "Python 3",
   "language": "python",
   "name": "python3"
  },
  "language_info": {
   "codemirror_mode": {
    "name": "ipython",
    "version": 3
   },
   "file_extension": ".py",
   "mimetype": "text/x-python",
   "name": "python",
   "nbconvert_exporter": "python",
   "pygments_lexer": "ipython3",
   "version": "3.9.16"
  },
  "orig_nbformat": 4,
  "vscode": {
   "interpreter": {
    "hash": "4f6da94fbd2a48d6b8c561eef56410149c7e15869f01ce1543b0d4b27a8bac0f"
   }
  }
 },
 "nbformat": 4,
 "nbformat_minor": 2
}
