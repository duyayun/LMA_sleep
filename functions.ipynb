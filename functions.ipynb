{
 "cells": [
  {
   "attachments": {},
   "cell_type": "markdown",
   "metadata": {},
   "source": [
    "### Interval filteration and hrv feature generation"
   ]
  },
  {
   "cell_type": "code",
   "execution_count": null,
   "metadata": {},
   "outputs": [],
   "source": [
    "###Inverval filteration and hrv feature generation\n",
    "import hrvanalysis as hrv\n",
    "import scipy.signal as signal\n",
    "def bbi_filter(beat_interval):\n",
    "    #remove outliers\n",
    "    print(\"inital length\")\n",
    "\n",
    "    filtered_interval = hrv.remove_outliers(beat_interval,low_rri = 400,high_rri = 1200)\n",
    "    #Replace na values with linear interpolation using forier transfer\n",
    "    interpolated_interval = hrv.interpolate_nan_values(filtered_interval,interpolation_method=\"linear\")\n",
    "    # This remove ectopic beats from signal\n",
    "    # nn_intervals_list = hrv.remove_ectopic_beats(interpolated_interval, method=\"malik\")\n",
    "    # # This replace ectopic beats nan values with linear interpolation\n",
    "    # interpolated_nn_intervals = hrv.interpolate_nan_values(nn_intervals_list)\n",
    "    nn_intervals =  hrv.get_nn_intervals(interpolated_interval)\n",
    "    return nn_intervals\n",
    "\n",
    "def hrv_generation(peak_intervals,orign_df,rr_itv,binsize=120, mechano_acoustic = True):\n",
    "    \"\"\" This function takes a peak peak interval list, bin size in second,a boolean, and the original dataset with time stamps as input, then will remove the abnormal intervals and heart beats and generate the HRV features.  \"\"\"\n",
    "   \n",
    "    if mechano_acoustic:\n",
    "        ma_df = orign_df\n",
    "        \n",
    "        itv_1 = 0\n",
    "        itv_2 = 0\n",
    "        i = 0\n",
    "        k = 0\n",
    "        hr = pd.DataFrame(columns=['index','Hr'])\n",
    "        ma_it = pd.DataFrame(columns=['index','Hr'])\n",
    "        hrv_feature = pd.DataFrame()\n",
    "        while i < len(peak_intervals)-1:\n",
    "            \n",
    "            interval = peak_intervals[i]\n",
    "            # itv_1 = peaks[i+2]\n",
    "            i = i+1\n",
    "            itv_2 = itv_2 + rr_itv[i]\n",
    "            itv_1 = interval+itv_1\n",
    "            k=k+interval\n",
    "            hr_df = pd.DataFrame({'index': itv_2,'Hr':interval},index = [itv_2])\n",
    "            hr = pd.concat([hr,hr_df])\n",
    "            ma_it = pd.concat([ma_it,hr_df])\n",
    "            if k > binsize*1000:\n",
    "                bined_interval = hr.Hr.values.tolist()\n",
    "                feature = pd.DataFrame([hrv.get_frequency_domain_features(bined_interval)])\n",
    "                feature = pd.merge_asof(feature,pd.DataFrame([hrv.get_time_domain_features(bined_interval)]),left_index=True,right_index=True)\n",
    "                feature = pd. merge_asof(feature,pd.DataFrame([hrv.get_geometrical_features(bined_interval)]),left_index=True,right_index=True)\n",
    "                feature = pd. merge_asof(feature,pd.DataFrame([hrv.get_csi_cvi_features(bined_interval)]),left_index=True,right_index=True)\n",
    "                # try:\n",
    "                #     feature = pd.DataFrame([hrv.get_frequency_domain_features(bined_interval)])\n",
    "                # except:\n",
    "                #     print('feature error')\n",
    "                itv_1 = int(itv_1)\n",
    "                feature['time'] = ma_df.index[itv_2]\n",
    "                hrv_feature = pd.concat([hrv_feature,feature],ignore_index=True)\n",
    "                hr = pd.DataFrame(columns=['index','Hr'])\n",
    "                k=0 \n",
    "            \n",
    "        ma_hrv = hrv_feature.copy()\n",
    "        ##return ma_hrv, ma_it\n",
    "        return ma_hrv,ma_it\n"
   ]
  },
  {
   "cell_type": "code",
   "execution_count": null,
   "metadata": {},
   "outputs": [],
   "source": []
  }
 ],
 "metadata": {
  "language_info": {
   "name": "python"
  },
  "orig_nbformat": 4
 },
 "nbformat": 4,
 "nbformat_minor": 2
}
