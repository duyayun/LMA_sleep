{
 "cells": [
  {
   "cell_type": "code",
   "execution_count": 1,
   "metadata": {},
   "outputs": [],
   "source": [
    "from utils.general import file_to_lazy_frame\n",
    "from utils.vitals import analyze_vitals\n",
    "import pandas as pd\n",
    "import polars as pl\n",
    "import numpy as np\n",
    "import pandas as pd\n",
    "from scipy import signal\n",
    "from utils.general import bandpass_filt, shannon_energy"
   ]
  },
  {
   "cell_type": "code",
   "execution_count": 3,
   "metadata": {},
   "outputs": [
    {
     "name": "stdout",
     "output_type": "stream",
     "text": [
      "2.0.0\n"
     ]
    }
   ],
   "source": [
    "print(pd.__version__)"
   ]
  },
  {
   "cell_type": "code",
   "execution_count": 2,
   "metadata": {},
   "outputs": [],
   "source": [
    "path = '../ma-data-kit-main/data/test005-CarleSleep008-interp_imu_xl-2023-04-30T02:00:00-05:00-2023-04-30T10:00:00-05:00.parquet'\n",
    "\n",
    "df = pd.read_parquet(path)[['t', 'x', 'y', 'z']]\n",
    "df.set_index('t', inplace=True)\n",
    "\n",
    "df_down = df.resample('1ms').mean().dropna()\n",
    "fs = 1e-09**-1/np.median(np.diff(df_down.index.values.astype(np.int64)))\n",
    "\n",
    "\n",
    "# Calculating HR from MA Z signals\n",
    "ma_z_lp = bandpass_filt(df_down['z'].to_frame(), 1/0.05, fs, 'lowpass')\n",
    "ma_z_bp = bandpass_filt(ma_z_lp, (20, 51), fs, 'bandpass')\n",
    "\n",
    "ma_z_bp_cwt = signal.cwt(ma_z_bp['z'].values.T,signal.morlet,np.arange(1,20))\n",
    "ma_z_cwt_pk = ma_z_bp_cwt.T[:,1:15]\n"
   ]
  },
  {
   "cell_type": "code",
   "execution_count": 3,
   "metadata": {},
   "outputs": [
    {
     "ename": "NameError",
     "evalue": "name 'ndimage' is not defined",
     "output_type": "error",
     "traceback": [
      "\u001b[0;31m---------------------------------------------------------------------------\u001b[0m",
      "\u001b[0;31mNameError\u001b[0m                                 Traceback (most recent call last)",
      "Cell \u001b[0;32mIn[3], line 2\u001b[0m\n\u001b[1;32m      1\u001b[0m cwt_se \u001b[39m=\u001b[39m shannon_energy(ma_z_cwt_pk)\n\u001b[0;32m----> 2\u001b[0m cwt_se_gs \u001b[39m=\u001b[39m ndimage\u001b[39m.\u001b[39mgaussian_filter(np\u001b[39m.\u001b[39mabs(cwt_se),sigma\u001b[39m=\u001b[39m\u001b[39m25\u001b[39m)\n\u001b[1;32m      5\u001b[0m \u001b[39m# low-pass to extract waves that have roughly 700 ms width\u001b[39;00m\n\u001b[1;32m      6\u001b[0m single_peak \u001b[39m=\u001b[39m np_bandpass_filt(cwt_se_gs, \u001b[39m1\u001b[39m\u001b[39m/\u001b[39m\u001b[39m0.7\u001b[39m, fs, \u001b[39m'\u001b[39m\u001b[39mlowpass\u001b[39m\u001b[39m'\u001b[39m)\n",
      "\u001b[0;31mNameError\u001b[0m: name 'ndimage' is not defined"
     ]
    }
   ],
   "source": [
    "cwt_se = shannon_energy(ma_z_cwt_pk)\n",
    "cwt_se_gs = ndimage.gaussian_filter(np.abs(cwt_se),sigma=25)\n",
    "\n",
    "\n",
    "# low-pass to extract waves that have roughly 700 ms width\n",
    "single_peak = np_bandpass_filt(cwt_se_gs, 1/0.7, fs, 'lowpass')\n"
   ]
  },
  {
   "cell_type": "code",
   "execution_count": null,
   "metadata": {},
   "outputs": [],
   "source": []
  },
  {
   "cell_type": "code",
   "execution_count": 3,
   "metadata": {},
   "outputs": [],
   "source": [
    "df = analyze_vitals(path)"
   ]
  },
  {
   "cell_type": "code",
   "execution_count": 4,
   "metadata": {},
   "outputs": [
    {
     "data": {
      "text/html": [
       "<div>\n",
       "<style scoped>\n",
       "    .dataframe tbody tr th:only-of-type {\n",
       "        vertical-align: middle;\n",
       "    }\n",
       "\n",
       "    .dataframe tbody tr th {\n",
       "        vertical-align: top;\n",
       "    }\n",
       "\n",
       "    .dataframe thead th {\n",
       "        text-align: right;\n",
       "    }\n",
       "</style>\n",
       "<table border=\"1\" class=\"dataframe\">\n",
       "  <thead>\n",
       "    <tr style=\"text-align: right;\">\n",
       "      <th></th>\n",
       "      <th>x</th>\n",
       "      <th>y</th>\n",
       "      <th>z</th>\n",
       "    </tr>\n",
       "    <tr>\n",
       "      <th>t</th>\n",
       "      <th></th>\n",
       "      <th></th>\n",
       "      <th></th>\n",
       "    </tr>\n",
       "  </thead>\n",
       "  <tbody>\n",
       "    <tr>\n",
       "      <th>2023-04-30 08:28:59.295</th>\n",
       "      <td>65.0</td>\n",
       "      <td>-3776.0</td>\n",
       "      <td>7197.0</td>\n",
       "    </tr>\n",
       "    <tr>\n",
       "      <th>2023-04-30 08:28:59.296</th>\n",
       "      <td>65.0</td>\n",
       "      <td>-3776.0</td>\n",
       "      <td>7209.5</td>\n",
       "    </tr>\n",
       "    <tr>\n",
       "      <th>2023-04-30 08:28:59.297</th>\n",
       "      <td>65.0</td>\n",
       "      <td>-3777.0</td>\n",
       "      <td>7167.0</td>\n",
       "    </tr>\n",
       "    <tr>\n",
       "      <th>2023-04-30 08:28:59.298</th>\n",
       "      <td>66.0</td>\n",
       "      <td>-3777.0</td>\n",
       "      <td>7202.0</td>\n",
       "    </tr>\n",
       "    <tr>\n",
       "      <th>2023-04-30 08:28:59.299</th>\n",
       "      <td>66.5</td>\n",
       "      <td>-3778.0</td>\n",
       "      <td>7188.0</td>\n",
       "    </tr>\n",
       "    <tr>\n",
       "      <th>...</th>\n",
       "      <td>...</td>\n",
       "      <td>...</td>\n",
       "      <td>...</td>\n",
       "    </tr>\n",
       "    <tr>\n",
       "      <th>2023-04-30 14:59:59.917</th>\n",
       "      <td>7862.0</td>\n",
       "      <td>-1886.0</td>\n",
       "      <td>1403.0</td>\n",
       "    </tr>\n",
       "    <tr>\n",
       "      <th>2023-04-30 14:59:59.918</th>\n",
       "      <td>7862.0</td>\n",
       "      <td>-1886.0</td>\n",
       "      <td>1357.0</td>\n",
       "    </tr>\n",
       "    <tr>\n",
       "      <th>2023-04-30 14:59:59.919</th>\n",
       "      <td>7862.0</td>\n",
       "      <td>-1886.0</td>\n",
       "      <td>1383.0</td>\n",
       "    </tr>\n",
       "    <tr>\n",
       "      <th>2023-04-30 14:59:59.920</th>\n",
       "      <td>7862.0</td>\n",
       "      <td>-1886.0</td>\n",
       "      <td>1398.5</td>\n",
       "    </tr>\n",
       "    <tr>\n",
       "      <th>2023-04-30 14:59:59.921</th>\n",
       "      <td>7861.0</td>\n",
       "      <td>-1886.0</td>\n",
       "      <td>1383.0</td>\n",
       "    </tr>\n",
       "  </tbody>\n",
       "</table>\n",
       "<p>23460627 rows × 3 columns</p>\n",
       "</div>"
      ],
      "text/plain": [
       "                              x       y       z\n",
       "t                                              \n",
       "2023-04-30 08:28:59.295    65.0 -3776.0  7197.0\n",
       "2023-04-30 08:28:59.296    65.0 -3776.0  7209.5\n",
       "2023-04-30 08:28:59.297    65.0 -3777.0  7167.0\n",
       "2023-04-30 08:28:59.298    66.0 -3777.0  7202.0\n",
       "2023-04-30 08:28:59.299    66.5 -3778.0  7188.0\n",
       "...                         ...     ...     ...\n",
       "2023-04-30 14:59:59.917  7862.0 -1886.0  1403.0\n",
       "2023-04-30 14:59:59.918  7862.0 -1886.0  1357.0\n",
       "2023-04-30 14:59:59.919  7862.0 -1886.0  1383.0\n",
       "2023-04-30 14:59:59.920  7862.0 -1886.0  1398.5\n",
       "2023-04-30 14:59:59.921  7861.0 -1886.0  1383.0\n",
       "\n",
       "[23460627 rows x 3 columns]"
      ]
     },
     "execution_count": 4,
     "metadata": {},
     "output_type": "execute_result"
    }
   ],
   "source": [
    "df"
   ]
  },
  {
   "cell_type": "code",
   "execution_count": null,
   "metadata": {},
   "outputs": [],
   "source": []
  }
 ],
 "metadata": {
  "kernelspec": {
   "display_name": "sleepstudy",
   "language": "python",
   "name": "python3"
  },
  "language_info": {
   "codemirror_mode": {
    "name": "ipython",
    "version": 3
   },
   "file_extension": ".py",
   "mimetype": "text/x-python",
   "name": "python",
   "nbconvert_exporter": "python",
   "pygments_lexer": "ipython3",
   "version": "3.9.16"
  },
  "orig_nbformat": 4
 },
 "nbformat": 4,
 "nbformat_minor": 2
}
